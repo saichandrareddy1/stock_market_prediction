{
 "cells": [
  {
   "cell_type": "code",
   "execution_count": 14,
   "metadata": {},
   "outputs": [],
   "source": [
    "import numpy as np\n",
    "import pandas as pd\n",
    "from sklearn import linear_model\n",
    "from scipy.stats import skew\n",
    "from scipy.stats import norm\n",
    "from scipy import stats\n",
    "from sklearn.model_selection import train_test_split\n",
    "import matplotlib.pyplot as plt\n",
    "import time\n",
    "import datetime\n",
    "import seaborn as sns\n",
    "%matplotlib inline\n",
    "sns.set()"
   ]
  },
  {
   "cell_type": "code",
   "execution_count": 15,
   "metadata": {},
   "outputs": [
    {
     "data": {
      "text/html": [
       "<div>\n",
       "<style scoped>\n",
       "    .dataframe tbody tr th:only-of-type {\n",
       "        vertical-align: middle;\n",
       "    }\n",
       "\n",
       "    .dataframe tbody tr th {\n",
       "        vertical-align: top;\n",
       "    }\n",
       "\n",
       "    .dataframe thead th {\n",
       "        text-align: right;\n",
       "    }\n",
       "</style>\n",
       "<table border=\"1\" class=\"dataframe\">\n",
       "  <thead>\n",
       "    <tr style=\"text-align: right;\">\n",
       "      <th></th>\n",
       "      <th>Date</th>\n",
       "      <th>Open</th>\n",
       "      <th>High</th>\n",
       "      <th>Low</th>\n",
       "      <th>Close</th>\n",
       "      <th>Adj Close</th>\n",
       "      <th>Volume</th>\n",
       "    </tr>\n",
       "  </thead>\n",
       "  <tbody>\n",
       "    <tr>\n",
       "      <th>0</th>\n",
       "      <td>1998-08-27</td>\n",
       "      <td>17.879700</td>\n",
       "      <td>18.115601</td>\n",
       "      <td>17.549500</td>\n",
       "      <td>17.7146</td>\n",
       "      <td>0.697660</td>\n",
       "      <td>44093886.0</td>\n",
       "    </tr>\n",
       "    <tr>\n",
       "      <th>1</th>\n",
       "      <td>1998-08-28</td>\n",
       "      <td>17.511700</td>\n",
       "      <td>17.511700</td>\n",
       "      <td>16.983400</td>\n",
       "      <td>17.0777</td>\n",
       "      <td>0.672577</td>\n",
       "      <td>41041489.0</td>\n",
       "    </tr>\n",
       "    <tr>\n",
       "      <th>2</th>\n",
       "      <td>1998-08-31</td>\n",
       "      <td>17.106001</td>\n",
       "      <td>17.398500</td>\n",
       "      <td>17.063601</td>\n",
       "      <td>17.2381</td>\n",
       "      <td>0.678894</td>\n",
       "      <td>27554240.0</td>\n",
       "    </tr>\n",
       "    <tr>\n",
       "      <th>3</th>\n",
       "      <td>1998-09-01</td>\n",
       "      <td>17.200399</td>\n",
       "      <td>17.200399</td>\n",
       "      <td>16.606001</td>\n",
       "      <td>16.8041</td>\n",
       "      <td>0.661801</td>\n",
       "      <td>31287067.0</td>\n",
       "    </tr>\n",
       "    <tr>\n",
       "      <th>4</th>\n",
       "      <td>1998-09-02</td>\n",
       "      <td>17.077700</td>\n",
       "      <td>17.252300</td>\n",
       "      <td>17.007000</td>\n",
       "      <td>17.1579</td>\n",
       "      <td>0.675735</td>\n",
       "      <td>20362030.0</td>\n",
       "    </tr>\n",
       "  </tbody>\n",
       "</table>\n",
       "</div>"
      ],
      "text/plain": [
       "         Date       Open       High        Low    Close  Adj Close      Volume\n",
       "0  1998-08-27  17.879700  18.115601  17.549500  17.7146   0.697660  44093886.0\n",
       "1  1998-08-28  17.511700  17.511700  16.983400  17.0777   0.672577  41041489.0\n",
       "2  1998-08-31  17.106001  17.398500  17.063601  17.2381   0.678894  27554240.0\n",
       "3  1998-09-01  17.200399  17.200399  16.606001  16.8041   0.661801  31287067.0\n",
       "4  1998-09-02  17.077700  17.252300  17.007000  17.1579   0.675735  20362030.0"
      ]
     },
     "execution_count": 15,
     "metadata": {},
     "output_type": "execute_result"
    }
   ],
   "source": [
    "data = pd.read_csv('F:\\\\python py\\\\pandas\\\\project\\\\Book1.csv')\n",
    "data.head()"
   ]
  },
  {
   "cell_type": "code",
   "execution_count": 16,
   "metadata": {},
   "outputs": [
    {
     "data": {
      "text/html": [
       "<div>\n",
       "<style scoped>\n",
       "    .dataframe tbody tr th:only-of-type {\n",
       "        vertical-align: middle;\n",
       "    }\n",
       "\n",
       "    .dataframe tbody tr th {\n",
       "        vertical-align: top;\n",
       "    }\n",
       "\n",
       "    .dataframe thead th {\n",
       "        text-align: right;\n",
       "    }\n",
       "</style>\n",
       "<table border=\"1\" class=\"dataframe\">\n",
       "  <thead>\n",
       "    <tr style=\"text-align: right;\">\n",
       "      <th></th>\n",
       "      <th>Date</th>\n",
       "      <th>Open</th>\n",
       "      <th>High</th>\n",
       "      <th>Low</th>\n",
       "      <th>Close</th>\n",
       "      <th>Adj Close</th>\n",
       "      <th>Volume</th>\n",
       "    </tr>\n",
       "  </thead>\n",
       "  <tbody>\n",
       "    <tr>\n",
       "      <th>5028</th>\n",
       "      <td>2018-08-17</td>\n",
       "      <td>295.000000</td>\n",
       "      <td>302.700012</td>\n",
       "      <td>294.049988</td>\n",
       "      <td>302.100006</td>\n",
       "      <td>302.100006</td>\n",
       "      <td>21931134.0</td>\n",
       "    </tr>\n",
       "    <tr>\n",
       "      <th>5029</th>\n",
       "      <td>2018-08-20</td>\n",
       "      <td>304.100006</td>\n",
       "      <td>308.700012</td>\n",
       "      <td>303.600006</td>\n",
       "      <td>307.649994</td>\n",
       "      <td>307.649994</td>\n",
       "      <td>20240462.0</td>\n",
       "    </tr>\n",
       "    <tr>\n",
       "      <th>5030</th>\n",
       "      <td>2018-08-21</td>\n",
       "      <td>308.299988</td>\n",
       "      <td>308.850006</td>\n",
       "      <td>303.350006</td>\n",
       "      <td>307.000000</td>\n",
       "      <td>307.000000</td>\n",
       "      <td>14139592.0</td>\n",
       "    </tr>\n",
       "    <tr>\n",
       "      <th>5031</th>\n",
       "      <td>2018-08-23</td>\n",
       "      <td>306.950012</td>\n",
       "      <td>306.950012</td>\n",
       "      <td>298.299988</td>\n",
       "      <td>302.450012</td>\n",
       "      <td>302.450012</td>\n",
       "      <td>22721004.0</td>\n",
       "    </tr>\n",
       "    <tr>\n",
       "      <th>5032</th>\n",
       "      <td>2018-08-24</td>\n",
       "      <td>300.600006</td>\n",
       "      <td>305.700012</td>\n",
       "      <td>299.000000</td>\n",
       "      <td>300.450012</td>\n",
       "      <td>300.450012</td>\n",
       "      <td>18869585.0</td>\n",
       "    </tr>\n",
       "  </tbody>\n",
       "</table>\n",
       "</div>"
      ],
      "text/plain": [
       "            Date        Open        High         Low       Close   Adj Close  \\\n",
       "5028  2018-08-17  295.000000  302.700012  294.049988  302.100006  302.100006   \n",
       "5029  2018-08-20  304.100006  308.700012  303.600006  307.649994  307.649994   \n",
       "5030  2018-08-21  308.299988  308.850006  303.350006  307.000000  307.000000   \n",
       "5031  2018-08-23  306.950012  306.950012  298.299988  302.450012  302.450012   \n",
       "5032  2018-08-24  300.600006  305.700012  299.000000  300.450012  300.450012   \n",
       "\n",
       "          Volume  \n",
       "5028  21931134.0  \n",
       "5029  20240462.0  \n",
       "5030  14139592.0  \n",
       "5031  22721004.0  \n",
       "5032  18869585.0  "
      ]
     },
     "execution_count": 16,
     "metadata": {},
     "output_type": "execute_result"
    }
   ],
   "source": [
    "d = data.dropna()\n",
    "d.tail()"
   ]
  },
  {
   "cell_type": "code",
   "execution_count": 17,
   "metadata": {},
   "outputs": [
    {
     "data": {
      "text/plain": [
       "array(['1998-08-27', '1998-08-28', '1998-08-31', ..., '2018-08-21',\n",
       "       '2018-08-23', '2018-08-24'], dtype=object)"
      ]
     },
     "execution_count": 17,
     "metadata": {},
     "output_type": "execute_result"
    }
   ],
   "source": [
    "dt = d['Date'].values\n",
    "dt"
   ]
  },
  {
   "cell_type": "code",
   "execution_count": 18,
   "metadata": {},
   "outputs": [
    {
     "data": {
      "text/plain": [
       "dtype('<M8[D]')"
      ]
     },
     "execution_count": 18,
     "metadata": {},
     "output_type": "execute_result"
    }
   ],
   "source": [
    "dt.astype('datetime64[D]').dtype"
   ]
  },
  {
   "cell_type": "code",
   "execution_count": 19,
   "metadata": {},
   "outputs": [
    {
     "name": "stderr",
     "output_type": "stream",
     "text": [
      "F:\\SetUp\\Anaconda\\lib\\site-packages\\ipykernel_launcher.py:1: SettingWithCopyWarning: \n",
      "A value is trying to be set on a copy of a slice from a DataFrame.\n",
      "Try using .loc[row_indexer,col_indexer] = value instead\n",
      "\n",
      "See the caveats in the documentation: http://pandas.pydata.org/pandas-docs/stable/indexing.html#indexing-view-versus-copy\n",
      "  \"\"\"Entry point for launching an IPython kernel.\n"
     ]
    },
    {
     "data": {
      "text/html": [
       "<div>\n",
       "<style scoped>\n",
       "    .dataframe tbody tr th:only-of-type {\n",
       "        vertical-align: middle;\n",
       "    }\n",
       "\n",
       "    .dataframe tbody tr th {\n",
       "        vertical-align: top;\n",
       "    }\n",
       "\n",
       "    .dataframe thead th {\n",
       "        text-align: right;\n",
       "    }\n",
       "</style>\n",
       "<table border=\"1\" class=\"dataframe\">\n",
       "  <thead>\n",
       "    <tr style=\"text-align: right;\">\n",
       "      <th></th>\n",
       "      <th>Date</th>\n",
       "      <th>Open</th>\n",
       "      <th>High</th>\n",
       "      <th>Low</th>\n",
       "      <th>Close</th>\n",
       "      <th>Adj Close</th>\n",
       "      <th>Volume</th>\n",
       "    </tr>\n",
       "  </thead>\n",
       "  <tbody>\n",
       "    <tr>\n",
       "      <th>0</th>\n",
       "      <td>10465</td>\n",
       "      <td>17.879700</td>\n",
       "      <td>18.115601</td>\n",
       "      <td>17.549500</td>\n",
       "      <td>17.7146</td>\n",
       "      <td>0.697660</td>\n",
       "      <td>44093886.0</td>\n",
       "    </tr>\n",
       "    <tr>\n",
       "      <th>1</th>\n",
       "      <td>10466</td>\n",
       "      <td>17.511700</td>\n",
       "      <td>17.511700</td>\n",
       "      <td>16.983400</td>\n",
       "      <td>17.0777</td>\n",
       "      <td>0.672577</td>\n",
       "      <td>41041489.0</td>\n",
       "    </tr>\n",
       "    <tr>\n",
       "      <th>2</th>\n",
       "      <td>10469</td>\n",
       "      <td>17.106001</td>\n",
       "      <td>17.398500</td>\n",
       "      <td>17.063601</td>\n",
       "      <td>17.2381</td>\n",
       "      <td>0.678894</td>\n",
       "      <td>27554240.0</td>\n",
       "    </tr>\n",
       "    <tr>\n",
       "      <th>3</th>\n",
       "      <td>10470</td>\n",
       "      <td>17.200399</td>\n",
       "      <td>17.200399</td>\n",
       "      <td>16.606001</td>\n",
       "      <td>16.8041</td>\n",
       "      <td>0.661801</td>\n",
       "      <td>31287067.0</td>\n",
       "    </tr>\n",
       "    <tr>\n",
       "      <th>4</th>\n",
       "      <td>10471</td>\n",
       "      <td>17.077700</td>\n",
       "      <td>17.252300</td>\n",
       "      <td>17.007000</td>\n",
       "      <td>17.1579</td>\n",
       "      <td>0.675735</td>\n",
       "      <td>20362030.0</td>\n",
       "    </tr>\n",
       "  </tbody>\n",
       "</table>\n",
       "</div>"
      ],
      "text/plain": [
       "    Date       Open       High        Low    Close  Adj Close      Volume\n",
       "0  10465  17.879700  18.115601  17.549500  17.7146   0.697660  44093886.0\n",
       "1  10466  17.511700  17.511700  16.983400  17.0777   0.672577  41041489.0\n",
       "2  10469  17.106001  17.398500  17.063601  17.2381   0.678894  27554240.0\n",
       "3  10470  17.200399  17.200399  16.606001  16.8041   0.661801  31287067.0\n",
       "4  10471  17.077700  17.252300  17.007000  17.1579   0.675735  20362030.0"
      ]
     },
     "execution_count": 19,
     "metadata": {},
     "output_type": "execute_result"
    }
   ],
   "source": [
    "d['Date']=dt.astype('datetime64[D]').astype(int)\n",
    "d.head()"
   ]
  },
  {
   "cell_type": "code",
   "execution_count": 20,
   "metadata": {},
   "outputs": [
    {
     "data": {
      "text/plain": [
       "Date           int32\n",
       "Open         float64\n",
       "High         float64\n",
       "Low          float64\n",
       "Close        float64\n",
       "Adj Close    float64\n",
       "Volume       float64\n",
       "dtype: object"
      ]
     },
     "execution_count": 20,
     "metadata": {},
     "output_type": "execute_result"
    }
   ],
   "source": [
    "d.dtypes"
   ]
  },
  {
   "cell_type": "code",
   "execution_count": 21,
   "metadata": {},
   "outputs": [
    {
     "name": "stderr",
     "output_type": "stream",
     "text": [
      "F:\\SetUp\\Anaconda\\lib\\site-packages\\matplotlib\\axes\\_axes.py:6462: UserWarning: The 'normed' kwarg is deprecated, and has been replaced by the 'density' kwarg.\n",
      "  warnings.warn(\"The 'normed' kwarg is deprecated, and has been \"\n"
     ]
    },
    {
     "data": {
      "text/plain": [
       "<matplotlib.axes._subplots.AxesSubplot at 0x1c6125cfb70>"
      ]
     },
     "execution_count": 21,
     "metadata": {},
     "output_type": "execute_result"
    },
    {
     "data": {
      "image/png": "[encoded data removed]",
      "text/plain": [
       "<Figure size 864x432 with 1 Axes>"
      ]
     },
     "metadata": {},
     "output_type": "display_data"
    }
   ],
   "source": [
    "plt.figure(figsize=(12,6))\n",
    "sns.distplot(d['Close'], fit=norm)"
   ]
  },
  {
   "cell_type": "code",
   "execution_count": 22,
   "metadata": {},
   "outputs": [
    {
     "data": {
      "text/plain": [
       "(4952,)"
      ]
     },
     "execution_count": 22,
     "metadata": {},
     "output_type": "execute_result"
    }
   ],
   "source": [
    "Date = np.array(d.Date)\n",
    "Price = np.array(d.Close)\n",
    "Date.shape"
   ]
  },
  {
   "cell_type": "code",
   "execution_count": 23,
   "metadata": {},
   "outputs": [
    {
     "data": {
      "text/plain": [
       "((4952, 1), (4952, 1))"
      ]
     },
     "execution_count": 23,
     "metadata": {},
     "output_type": "execute_result"
    }
   ],
   "source": [
    "X = Date.reshape(Date.shape[0],1)\n",
    "y = Price.reshape(Price.shape[0],1)\n",
    "X.shape,y.shape"
   ]
  },
  {
   "cell_type": "code",
   "execution_count": 24,
   "metadata": {},
   "outputs": [],
   "source": [
    "X_train, X_test, y_train, y_test = train_test_split(X, y, random_state=0)"
   ]
  },
  {
   "cell_type": "code",
   "execution_count": 25,
   "metadata": {},
   "outputs": [
    {
     "data": {
      "image/png": "[encoded data removed]",
      "text/plain": [
       "<Figure size 432x288 with 1 Axes>"
      ]
     },
     "metadata": {},
     "output_type": "display_data"
    }
   ],
   "source": [
    "plt.scatter(X,y,color='blue')\n",
    "plt.show()"
   ]
  },
  {
   "cell_type": "code",
   "execution_count": 26,
   "metadata": {},
   "outputs": [
    {
     "data": {
      "text/plain": [
       "LinearRegression(copy_X=True, fit_intercept=True, n_jobs=1, normalize=False)"
      ]
     },
     "execution_count": 26,
     "metadata": {},
     "output_type": "execute_result"
    }
   ],
   "source": [
    "linear_model_ = linear_model.LinearRegression()\n",
    "linear_model_.fit(X_train,y_train)"
   ]
  },
  {
   "cell_type": "code",
   "execution_count": 27,
   "metadata": {},
   "outputs": [
    {
     "name": "stdout",
     "output_type": "stream",
     "text": [
      "R-squared score (training): 0.842\n",
      "R-squared score (test): 0.859\n"
     ]
    }
   ],
   "source": [
    "print('R-squared score (training): {:.3f}'\n",
    "     .format(linear_model_.score(X_train, y_train)))\n",
    "print('R-squared score (test): {:.3f}'\n",
    "     .format(linear_model_.score(X_test, y_test)))"
   ]
  },
  {
   "cell_type": "code",
   "execution_count": 28,
   "metadata": {},
   "outputs": [
    {
     "data": {
      "image/png": "[encoded data removed]",
      "text/plain": [
       "<Figure size 432x288 with 1 Axes>"
      ]
     },
     "metadata": {},
     "output_type": "display_data"
    }
   ],
   "source": [
    "plt.plot(X_train,linear_model_.predict(X_train),color='red',linewidth=3)\n",
    "plt.scatter(X,y,color='blue')\n",
    "plt.show()"
   ]
  },
  {
   "cell_type": "code",
   "execution_count": 29,
   "metadata": {},
   "outputs": [
    {
     "name": "stdout",
     "output_type": "stream",
     "text": [
      "[[0.04323452]]\n",
      "[-466.76516718]\n"
     ]
    }
   ],
   "source": [
    "print(linear_model_.coef_)\n",
    "print(linear_model_.intercept_)"
   ]
  },
  {
   "cell_type": "code",
   "execution_count": 30,
   "metadata": {},
   "outputs": [
    {
     "name": "stdout",
     "output_type": "stream",
     "text": [
      "[[66389052.27020156]]\n",
      "[[66392787.7327053]]\n",
      "[[66280723.85759328]]\n",
      "[[66284459.32009702]]\n",
      "[[66288194.78260075]]\n"
     ]
    }
   ],
   "source": [
    "#A new input to predict\n",
    "Dates = ['2018-08-30','2018-08-31','2018-08-01','2018-08-02','2018-08-03']\n",
    "for das in Dates:\n",
    "    s = das\n",
    "    temp_date = time.mktime(datetime.datetime.strptime(s, \"%Y-%m-%d\").timetuple())\n",
    "\n",
    "    df = pd.DataFrame({'Date': [temp_date]})\n",
    "\n",
    "    predicted_price =linear_model_.predict(df)\n",
    "    print(predicted_price)"
   ]
  },
  {
   "cell_type": "code",
   "execution_count": null,
   "metadata": {},
   "outputs": [],
   "source": []
  }
 ],
 "metadata": {
  "kernelspec": {
   "display_name": "Python 3",
   "language": "python",
   "name": "python3"
  },
  "language_info": {
   "codemirror_mode": {
    "name": "ipython",
    "version": 3
   },
   "file_extension": ".py",
   "mimetype": "text/x-python",
   "name": "python",
   "nbconvert_exporter": "python",
   "pygments_lexer": "ipython3",
   "version": "3.6.5"
  }
 },
 "nbformat": 4,
 "nbformat_minor": 2
}
